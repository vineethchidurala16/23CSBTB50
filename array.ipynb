{
  "nbformat": 4,
  "nbformat_minor": 0,
  "metadata": {
    "colab": {
      "provenance": [],
      "authorship_tag": "ABX9TyMc8RDAkvwWL1eg/8Uj6MEI",
      "include_colab_link": true
    },
    "kernelspec": {
      "name": "python3",
      "display_name": "Python 3"
    },
    "language_info": {
      "name": "python"
    }
  },
  "cells": [
    {
      "cell_type": "markdown",
      "metadata": {
        "id": "view-in-github",
        "colab_type": "text"
      },
      "source": [
        "<a href=\"https://colab.research.google.com/github/vineethchidurala16/23CSBTB50/blob/main/array.ipynb\" target=\"_parent\"><img src=\"https://colab.research.google.com/assets/colab-badge.svg\" alt=\"Open In Colab\"/></a>"
      ]
    },
    {
      "cell_type": "code",
      "execution_count": 1,
      "metadata": {
        "colab": {
          "base_uri": "https://localhost:8080/"
        },
        "id": "OCEpAxXp57Tv",
        "outputId": "415101d9-3797-4659-b027-e2395d548ba0"
      },
      "outputs": [
        {
          "output_type": "stream",
          "name": "stdout",
          "text": [
            "[0 0 0 1 1]\n"
          ]
        }
      ],
      "source": [
        "import numpy as np\n",
        "\n",
        "gfg = np.array([1, 2, 3, 4, 5])\n",
        "\n",
        "\n",
        "print(gfg.__irshift__(2))\n"
      ]
    },
    {
      "cell_type": "code",
      "source": [
        "import numpy as np\n",
        "gfg = np.array([1.45, 2.32, 3.98, 4.41, 5.55, 6.12])\n",
        "print(gfg.__abs__())\n",
        "import numpy as np\n",
        "arr = np.zeros((3, 4, 2), dtype = np.complex128)\n",
        "gfg = arr.size\n",
        "print (gfg)"
      ],
      "metadata": {
        "colab": {
          "base_uri": "https://localhost:8080/"
        },
        "id": "gCuL99rQ6RHQ",
        "outputId": "b585c2f8-a816-429f-e501-509e801bfada"
      },
      "execution_count": 2,
      "outputs": [
        {
          "output_type": "stream",
          "name": "stdout",
          "text": [
            "[1.45 2.32 3.98 4.41 5.55 6.12]\n",
            "24\n"
          ]
        }
      ]
    }
  ]
}